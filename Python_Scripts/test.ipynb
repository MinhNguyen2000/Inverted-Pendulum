{
 "cells": [
  {
   "cell_type": "code",
   "execution_count": null,
   "metadata": {},
   "outputs": [],
   "source": []
  },
  {
   "cell_type": "code",
   "execution_count": 4,
   "metadata": {},
   "outputs": [
    {
     "name": "stdout",
     "output_type": "stream",
     "text": [
      "1. calibration\n",
      "2. balance\n",
      "3. swing up\n"
     ]
    }
   ],
   "source": [
    "inputs = {\n",
    "        \"1\": \"calibration\",\n",
    "        \"2\": \"balance\",\n",
    "        \"3\": \"swing up\"\n",
    "    }\n",
    "\n",
    "for items, value in inputs.items():\n",
    "    print(f\"{items}. {value}\")"
   ]
  },
  {
   "cell_type": "code",
   "execution_count": 10,
   "metadata": {},
   "outputs": [],
   "source": [
    "def get_user_input():\n",
    "    inputs = {\n",
    "        \"1\": \"calibration\",\n",
    "        \"2\": \"balance\",\n",
    "        \"3\": \"swing up\"\n",
    "    }\n",
    "\n",
    "\n",
    "    print(\"\\nPossible states for the inverted pendulum system\")\n",
    "    for key, value in inputs.items():\n",
    "        print(f\"{key}. {value}\")    \n",
    "    while True:\n",
    "        user_input = input(\"Enter the number corresponding to your choice: \").strip()\n",
    "        if user_input in inputs:\n",
    "            return inputs[user_input]\n",
    "        else: \n",
    "            print(\"Invalid input. please enter a number from the list\")"
   ]
  },
  {
   "cell_type": "code",
   "execution_count": 18,
   "metadata": {},
   "outputs": [
    {
     "name": "stdout",
     "output_type": "stream",
     "text": [
      "Hello\n"
     ]
    }
   ],
   "source": [
    "my_list = [1.0,0.0]\n",
    "\n",
    "if my_list[0]:\n",
    "    print(\"Hello\")"
   ]
  },
  {
   "cell_type": "code",
   "execution_count": null,
   "metadata": {},
   "outputs": [
    {
     "data": {
      "text/plain": [
       "array([[ 0.00000000e+00,  1.00000000e+00,  0.00000000e+00,\n",
       "         0.00000000e+00],\n",
       "       [ 0.00000000e+00, -4.05679513e-05, -1.49902637e-01,\n",
       "         0.00000000e+00],\n",
       "       [ 0.00000000e+00,  0.00000000e+00,  0.00000000e+00,\n",
       "         1.00000000e+00],\n",
       "       [ 0.00000000e+00, -2.70453009e-04,  6.63993509e+01,\n",
       "         0.00000000e+00]])"
      ]
     },
     "execution_count": 18,
     "metadata": {},
     "output_type": "execute_result"
    }
   ],
   "source": [
    "import numpy as np\n",
    "\n",
    "# Physical system parameters\n",
    "m = 0.113/3         # Pendulum mass (kg)\n",
    "M = 2.465           # Cart mass (kg)\n",
    "L = 0.15            # Pendulum length (m)\n",
    "g = -9.81           \n",
    "d = 0.0001          # Damping coefficient (N*s/m) between cart and rail\n",
    "c = 1.27            # Force-Voltage coefficient (N/V) relating the voltage to the motor and the outputted force\n",
    "\n",
    "# LQR variables\n",
    "A = np.array([[0,       1,          0,                  0],\n",
    "              [0,       -d/M,       m*g/M,              0],\n",
    "              [0,       0,          0,                  1],\n",
    "              [0,       -d/(L*M),   -(M+m)*g/(L*M),     0]])\n",
    "B = np.array([[0,       1/M,        0,                  1/(L*M)]]).reshape(-1,1)\n",
    "R = np.array([1])"
   ]
  }
 ],
 "metadata": {
  "kernelspec": {
   "display_name": "Python 3",
   "language": "python",
   "name": "python3"
  },
  "language_info": {
   "codemirror_mode": {
    "name": "ipython",
    "version": 3
   },
   "file_extension": ".py",
   "mimetype": "text/x-python",
   "name": "python",
   "nbconvert_exporter": "python",
   "pygments_lexer": "ipython3",
   "version": "3.12.7"
  }
 },
 "nbformat": 4,
 "nbformat_minor": 2
}
