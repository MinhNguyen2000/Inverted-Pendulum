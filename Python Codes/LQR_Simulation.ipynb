{
 "cells": [
  {
   "cell_type": "markdown",
   "metadata": {},
   "source": [
    "# Inverted Cart Pendulum Simulation\n",
    "\n",
    "Only position of the cart is observed"
   ]
  },
  {
   "cell_type": "code",
   "execution_count": 1,
   "metadata": {},
   "outputs": [],
   "source": [
    "import numpy as np\n",
    "import control as ctrl\n",
    "import matplotlib.pyplot as plt"
   ]
  },
  {
   "cell_type": "markdown",
   "metadata": {},
   "source": [
    "# Continuous Time Model\n",
    "State x = [position, velocity, angle, angular rate]"
   ]
  },
  {
   "cell_type": "code",
   "execution_count": 35,
   "metadata": {},
   "outputs": [
    {
     "name": "stdout",
     "output_type": "stream",
     "text": [
      "[-3.          0.          3.34159265  0.        ]\n"
     ]
    }
   ],
   "source": [
    "# Physical parameters \n",
    "\n",
    "m = 1 # pendulum mass\n",
    "M = 5 # cart mass\n",
    "L = 2 # length of pendulum\n",
    "g = -9.81 \n",
    "d = 1 # cart damping coefficient\n",
    "\n",
    "# Simulation setup\n",
    "t0 = 0\n",
    "tf = 30\n",
    "dt = 0.001                              # Sampling rate\n",
    "T = np.arange(t0, tf+dt, dt)            # Simulation time array\n",
    "\n",
    "# Initial conditions\n",
    "x0 = np.array([-3, 0, np.pi+0.2,0])\n",
    "# Desired state\n",
    "xd = np.array([-1,0,np.pi,0])\n",
    "\n",
    "x = np.zeros((4,len(T)))\n",
    "x[:,0] = x0\n",
    "\n",
    "u = np.zeros(len(T) -1)\n",
    "\n",
    "# Desired state - adjusted for the linearization point\n",
    "y = x0.copy()\n",
    "yd = xd - np.array([0, 0, np.pi, 0])\n",
    "\n",
    "# Error array - stores history of difference between measured desired state and predicted state\n",
    "e = np.zeros((4, len(T)))\n",
    "\n",
    "# Measurement array - storing history of position measurement\n",
    "z = np.zeros(len(T))\n",
    "\n",
    "# Kalman filter setup\n",
    "mu0 = x0 - np.array([0, 0, np.pi, 0])   # Prior mean\n",
    "S0 = 0.1 * np.eye(4)                    # A priori variance\n",
    "\n",
    "mu = np.zeros((4, len(T)))              # Mean array - stores the history of state means\n",
    "mu[:, 0] = mu0\n",
    "S = S0"
   ]
  },
  {
   "cell_type": "code",
   "execution_count": 40,
   "metadata": {},
   "outputs": [
    {
     "name": "stdout",
     "output_type": "stream",
     "text": [
      "Rank of controllability matrix: 4\n",
      "Rank of observability matrix: 4\n"
     ]
    }
   ],
   "source": [
    "# Linearized system model at the top equilibrium point \n",
    "# (In other words, find the Jacobian of the motion model and evaluate at theta = pi and theta_dot = 0)\n",
    "A = np.array([[0, 1, 0, 0],\n",
    "              [0, -d/M, -m*g/M, 0],\n",
    "              [0, 0, 0, 1],\n",
    "              [0, -d/(M*L), -(m+M)*g/(M*L), 0]])\n",
    "\n",
    "B = np.array([[0], \n",
    "              [1/M], \n",
    "              [0], \n",
    "              [1/(M*L)]])\n",
    "\n",
    "C = np.array([[1, 0, 0, 0]])\n",
    "\n",
    "D = np.array([[0]])\n",
    "\n",
    "sys_ss = ctrl.ss(A, B, C, D)\n",
    "sys_tf = ctrl.ss2tf(A, B, C, D)\n",
    "\n",
    "lambda_ = np.linalg.eig(A)[0]\n",
    "pc = np.linalg.matrix_rank(ctrl.ctrb(A, B))\n",
    "print(f'Rank of controllability matrix: {pc:d}')\n",
    "po = np.linalg.matrix_rank(ctrl.obsv(A, C))\n",
    "print(f'Rank of observability matrix: {po:d}')\n",
    "\n",
    "# Pole placement\n",
    "# p = np.array([-0.01, -0.02, -0.03, -0.04])\n",
    "# p = np.array([-0.1, -0.2, -0.3, -0.4])\n",
    "p = np.array([-1, -1.1, -1.2, -1.3])\n",
    "# p = np.array([-2, -2.1, -2.2, -2.3])\n",
    "# p = np.array([-3, -3.1, -3.2, -3.3])\n",
    "# p = np.array([-3.5, -3.6, -3.7, -3.8])\n",
    "\n",
    "\n",
    "K = ctrl.place(A, B, p)\n",
    "\n",
    "# Discretized model for EKF implementation\n",
    "sysd = ctrl.c2d(sys_ss, dt, 'zoh')\n",
    "Ad = sysd.A\n",
    "Bd = sysd.B\n",
    "Cd = sysd.C\n",
    "Dd = sysd.D\n",
    "\n",
    "# Noise\n",
    "Q = 0.1 * np.eye(4)\n",
    "R = 0.01"
   ]
  },
  {
   "cell_type": "code",
   "execution_count": 37,
   "metadata": {},
   "outputs": [
    {
     "name": "stderr",
     "output_type": "stream",
     "text": [
      "/tmp/ipykernel_43328/3821684634.py:6: DeprecationWarning: Conversion of an array with ndim > 0 to a scalar is deprecated, and will error in future. Ensure you extract a single element from your array before performing this operation. (Deprecated NumPy 1.25.)\n",
      "  u[t] = -np.dot(K, -e[:, t])\n",
      "/tmp/ipykernel_43328/3821684634.py:25: DeprecationWarning: Conversion of an array with ndim > 0 to a scalar is deprecated, and will error in future. Ensure you extract a single element from your array before performing this operation. (Deprecated NumPy 1.25.)\n",
      "  z[t] = np.dot(C, (y - np.array([0, 0, np.pi, 0]))) + r\n"
     ]
    },
    {
     "ename": "ValueError",
     "evalue": "could not broadcast input array from shape (4,4) into shape (4,)",
     "output_type": "error",
     "traceback": [
      "\u001b[0;31m---------------------------------------------------------------------------\u001b[0m",
      "\u001b[0;31mValueError\u001b[0m                                Traceback (most recent call last)",
      "Cell \u001b[0;32mIn[37], line 36\u001b[0m\n\u001b[1;32m     33\u001b[0m Kg \u001b[38;5;241m=\u001b[39m np\u001b[38;5;241m.\u001b[39mdot(Sp, np\u001b[38;5;241m.\u001b[39mdot(Cd\u001b[38;5;241m.\u001b[39mT, np\u001b[38;5;241m.\u001b[39mlinalg\u001b[38;5;241m.\u001b[39minv(np\u001b[38;5;241m.\u001b[39mdot(Cd, np\u001b[38;5;241m.\u001b[39mdot(Sp, Cd\u001b[38;5;241m.\u001b[39mT)) \u001b[38;5;241m+\u001b[39m R)))\n\u001b[1;32m     35\u001b[0m \u001b[38;5;66;03m# Measurement update\u001b[39;00m\n\u001b[0;32m---> 36\u001b[0m \u001b[43mmu\u001b[49m\u001b[43m[\u001b[49m\u001b[43m:\u001b[49m\u001b[43m,\u001b[49m\u001b[43m \u001b[49m\u001b[43mt\u001b[49m\u001b[43m]\u001b[49m \u001b[38;5;241m=\u001b[39m mup \u001b[38;5;241m+\u001b[39m np\u001b[38;5;241m.\u001b[39mdot(Kg, (z[t] \u001b[38;5;241m-\u001b[39m np\u001b[38;5;241m.\u001b[39mdot(Cd, mup)))\n\u001b[1;32m     38\u001b[0m \u001b[38;5;66;03m# Update state uncertainty\u001b[39;00m\n\u001b[1;32m     39\u001b[0m S \u001b[38;5;241m=\u001b[39m np\u001b[38;5;241m.\u001b[39mdot(np\u001b[38;5;241m.\u001b[39meye(\u001b[38;5;241m4\u001b[39m) \u001b[38;5;241m-\u001b[39m np\u001b[38;5;241m.\u001b[39mdot(Kg, Cd), Sp)\n",
      "\u001b[0;31mValueError\u001b[0m: could not broadcast input array from shape (4,4) into shape (4,)"
     ]
    }
   ],
   "source": [
    "for t in range(1, len(T)):\n",
    "    # Error\n",
    "    e[:, t] = yd - mu[:, t - 1]\n",
    "\n",
    "    # Control input of the system\n",
    "    u[t] = -np.dot(K, -e[:, t])\n",
    "\n",
    "    # State update - Ground truth according to the system model\n",
    "    q = np.sqrt(Q) * np.random.randn(4, 1)\n",
    "    Sy = np.sin(y[2])       # Abbreviation for sin(theta)\n",
    "    Cy = np.cos(y[2])       # Abbreviation for cos(theta)\n",
    "    D_ = m * L * L * (M + m * (1 - Cy**2))\n",
    "    \n",
    "    dy = np.zeros(4)\n",
    "    dy[0] = y[1]\n",
    "    dy[1] = (1 / D_) * (-m**2 * L**2 * g * Cy * Sy + m * L**2 * (m * L * y[3]**2 * Sy - d * y[1])) + m * L * L * (1 / D_) * u[t]\n",
    "    dy[2] = y[3]\n",
    "    dy[3] = (1 / D_) * ((m + M) * m * g * L * Sy - m * L * Cy * (m * L * y[3]**2 * Sy - d * y[1])) - m * L * Cy * (1 / D_) * u[t]\n",
    "    \n",
    "    y += dy * dt #+q\n",
    "    x[:, t] = y\n",
    "\n",
    "    # Measurement model - State measurement according to the measurement model\n",
    "    r = np.sqrt(R) * np.random.randn(1)\n",
    "    z[t] = np.dot(C, (y - np.array([0, 0, np.pi, 0]))) + r\n",
    "\n",
    "    # Kalman filter estimation\n",
    "    # Prediction update\n",
    "    mup = np.dot(Ad, mu[:, t - 1]) + np.dot(Bd, u[t])\n",
    "    Sp = np.dot(Ad, np.dot(S, Ad.T)) + Q\n",
    "\n",
    "    # Kalman gain\n",
    "    Kg = np.dot(Sp, np.dot(Cd.T, np.linalg.inv(np.dot(Cd, np.dot(Sp, Cd.T)) + R)))\n",
    "\n",
    "    # Measurement update\n",
    "    mu[:, t] = mup + np.dot(Kg, (z[t] - np.dot(Cd, mup)))\n",
    "\n",
    "    # Update state uncertainty\n",
    "    S = np.dot(np.eye(4) - np.dot(Kg, Cd), Sp)\n"
   ]
  },
  {
   "cell_type": "code",
   "execution_count": null,
   "metadata": {},
   "outputs": [],
   "source": [
    "# Plotting Results\n",
    "plt.figure()\n",
    "plt.plot(T, z, label='$$z$$')\n",
    "plt.plot(T, x[0, :], label='$$x$$', linewidth=2)\n",
    "plt.plot(T, x[1, :], T, x[2, :], T, x[3, :])\n",
    "plt.legend(loc='best', fontsize=10)\n",
    "plt.xlabel('Time (seconds)')\n",
    "plt.ylabel('State response')\n",
    "plt.title('State response versus time (probabilistic and horizontal position feedback)')\n",
    "\n",
    "plt.figure()\n",
    "plt.subplot(2, 1, 1)\n",
    "plt.plot(T, mup[0, :])\n",
    "plt.legend([r'$$\\overline{\\mu_{1}}$$'], loc='best', fontsize=12)\n",
    "plt.xlabel('Time (seconds)')\n",
    "plt.ylabel('Prediction of horizontal position')\n",
    "plt.title('Prediction of horizontal position of the cart vs time')\n",
    "\n",
    "plt.subplot(2, 1, 2)\n",
    "plt.plot(T, mu[0, :], 'r')\n",
    "plt.legend([r'$$\\mu_{1}$$'], loc='best', fontsize=12)\n",
    "plt.xlabel('Time (seconds)')\n",
    "plt.ylabel('Belief of horizontal position')\n",
    "plt.title('Belief of horizontal position of the cart vs time')\n",
    "\n",
    "plt.figure()\n",
    "plt.plot(T[:-1], u)\n",
    "plt.legend(['u'], loc='best')\n",
    "plt.xlabel('Time (seconds)')\n",
    "plt.ylabel('Control input')\n",
    "plt.title('Control"
   ]
  }
 ],
 "metadata": {
  "kernelspec": {
   "display_name": "InvPenVen-Ubuntu",
   "language": "python",
   "name": "invpenven-ubuntu"
  },
  "language_info": {
   "codemirror_mode": {
    "name": "ipython",
    "version": 3
   },
   "file_extension": ".py",
   "mimetype": "text/x-python",
   "name": "python",
   "nbconvert_exporter": "python",
   "pygments_lexer": "ipython3",
   "version": "3.12.3"
  }
 },
 "nbformat": 4,
 "nbformat_minor": 2
}
