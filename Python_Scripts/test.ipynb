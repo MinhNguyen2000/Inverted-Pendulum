{
 "cells": [
  {
   "cell_type": "code",
   "execution_count": null,
   "metadata": {},
   "outputs": [],
   "source": []
  },
  {
   "cell_type": "code",
   "execution_count": null,
   "metadata": {},
   "outputs": [
    {
     "name": "stdout",
     "output_type": "stream",
     "text": [
      "1 calibration\n",
      "2 balance\n",
      "3 swing up\n"
     ]
    }
   ],
   "source": [
    "inputs = {\n",
    "        \"1\": \"calibration\",\n",
    "        \"2\": \"balance\",\n",
    "        \"3\": \"swing up\"\n",
    "    }\n",
    "\n",
    "for items, value in inputs.items():\n",
    "    print(f\"{items}. {value}\")"
   ]
  }
 ],
 "metadata": {
  "kernelspec": {
   "display_name": "Python 3",
   "language": "python",
   "name": "python3"
  },
  "language_info": {
   "codemirror_mode": {
    "name": "ipython",
    "version": 3
   },
   "file_extension": ".py",
   "mimetype": "text/x-python",
   "name": "python",
   "nbconvert_exporter": "python",
   "pygments_lexer": "ipython3",
   "version": "3.12.7"
  }
 },
 "nbformat": 4,
 "nbformat_minor": 2
}
