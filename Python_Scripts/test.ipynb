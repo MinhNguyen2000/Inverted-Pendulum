{
 "cells": [
  {
   "cell_type": "code",
   "execution_count": null,
   "metadata": {},
   "outputs": [],
   "source": []
  },
  {
   "cell_type": "code",
   "execution_count": 4,
   "metadata": {},
   "outputs": [
    {
     "name": "stdout",
     "output_type": "stream",
     "text": [
      "1. calibration\n",
      "2. balance\n",
      "3. swing up\n"
     ]
    }
   ],
   "source": [
    "inputs = {\n",
    "        \"1\": \"calibration\",\n",
    "        \"2\": \"balance\",\n",
    "        \"3\": \"swing up\"\n",
    "    }\n",
    "\n",
    "for items, value in inputs.items():\n",
    "    print(f\"{items}. {value}\")"
   ]
  },
  {
   "cell_type": "code",
   "execution_count": 10,
   "metadata": {},
   "outputs": [],
   "source": [
    "def get_user_input():\n",
    "    inputs = {\n",
    "        \"1\": \"calibration\",\n",
    "        \"2\": \"balance\",\n",
    "        \"3\": \"swing up\"\n",
    "    }\n",
    "\n",
    "\n",
    "    print(\"\\nPossible states for the inverted pendulum system\")\n",
    "    for key, value in inputs.items():\n",
    "        print(f\"{key}. {value}\")    \n",
    "    while True:\n",
    "        user_input = input(\"Enter the number corresponding to your choice: \").strip()\n",
    "        if user_input in inputs:\n",
    "            return inputs[user_input]\n",
    "        else: \n",
    "            print(\"Invalid input. please enter a number from the list\")"
   ]
  },
  {
   "cell_type": "code",
   "execution_count": 18,
   "metadata": {},
   "outputs": [
    {
     "name": "stdout",
     "output_type": "stream",
     "text": [
      "Hello\n"
     ]
    }
   ],
   "source": [
    "my_list = [1.0,0.0]\n",
    "\n",
    "if my_list[0]:\n",
    "    print(\"Hello\")"
   ]
  },
  {
   "cell_type": "code",
   "execution_count": null,
   "metadata": {},
   "outputs": [
    {
     "data": {
      "text/plain": [
       "'YesasASDA'"
      ]
     },
     "execution_count": 3,
     "metadata": {},
     "output_type": "execute_result"
    }
   ],
   "source": [
    "user_input = input('Choice: ')\n",
    "USER_INPUT = user_input.lower()\n",
    "user_input"
   ]
  }
 ],
 "metadata": {
  "kernelspec": {
   "display_name": "Python 3",
   "language": "python",
   "name": "python3"
  },
  "language_info": {
   "codemirror_mode": {
    "name": "ipython",
    "version": 3
   },
   "file_extension": ".py",
   "mimetype": "text/x-python",
   "name": "python",
   "nbconvert_exporter": "python",
   "pygments_lexer": "ipython3",
   "version": "3.12.7"
  }
 },
 "nbformat": 4,
 "nbformat_minor": 2
}
